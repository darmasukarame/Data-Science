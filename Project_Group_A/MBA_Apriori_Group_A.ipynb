{
 "cells": [
  {
   "cell_type": "markdown",
   "metadata": {},
   "source": [
    "# Market Basket Analysis - Association Rule Mining"
   ]
  },
  {
   "cell_type": "markdown",
   "metadata": {},
   "source": [
    "### Importing Library"
   ]
  },
  {
   "cell_type": "code",
   "execution_count": 92,
   "metadata": {},
   "outputs": [],
   "source": [
    "from sympy import *\n",
    "from itertools import combinations\n",
    "init_printing()"
   ]
  },
  {
   "cell_type": "markdown",
   "metadata": {},
   "source": [
    "### Generate Subset from Fullset"
   ]
  },
  {
   "cell_type": "code",
   "execution_count": 7,
   "metadata": {},
   "outputs": [],
   "source": [
    "def subset(S, k) :\n",
    "    return [set(s)\n",
    "           for s in combinations(S, k)]"
   ]
  },
  {
   "cell_type": "markdown",
   "metadata": {},
   "source": [
    "### Print All Items"
   ]
  },
  {
   "cell_type": "code",
   "execution_count": 8,
   "metadata": {},
   "outputs": [],
   "source": [
    "def print_all(iterable) :\n",
    "    for item in iterable :\n",
    "        print(item)"
   ]
  },
  {
   "cell_type": "markdown",
   "metadata": {},
   "source": [
    "### Initiating Dataset"
   ]
  },
  {
   "cell_type": "code",
   "execution_count": 9,
   "metadata": {},
   "outputs": [
    {
     "data": {
      "text/plain": [
       "[{'Roti', 'Susu'},\n",
       " {'Air Mineral', 'Popok Bayi', 'Roti', 'Telur'},\n",
       " {'Air Mineral', 'Popok Bayi', 'Soda', 'Susu'},\n",
       " {'Air Mineral', 'Popok Bayi', 'Roti', 'Susu'},\n",
       " {'Popok Bayi', 'Roti', 'Soda', 'Susu'},\n",
       " {'Popok Bayi', 'Roti', 'Soda', 'Telur'},\n",
       " {'Popok Bayi', 'Roti', 'Soda', 'Telur'},\n",
       " {'Popok Bayi', 'Susu', 'Telur'},\n",
       " {'Susu', 'Telur'},\n",
       " {'Air Mineral', 'Soda'}]"
      ]
     },
     "execution_count": 9,
     "metadata": {},
     "output_type": "execute_result"
    }
   ],
   "source": [
    "data = [\n",
    "    {'Roti', 'Susu'},\n",
    "    {'Air Mineral', 'Roti', 'Popok Bayi', 'Telur'},\n",
    "    {'Air Mineral', 'Soda', 'Popok Bayi', 'Susu'},\n",
    "    {'Air Mineral', 'Roti', 'Popok Bayi', 'Susu'},\n",
    "    {'Roti', 'Soda', 'Popok Bayi', 'Susu'},\n",
    "    {'Roti', 'Soda', 'Popok Bayi', 'Telur'},\n",
    "    {'Roti', 'Telur', 'Popok Bayi', 'Soda'},\n",
    "    {'Telur', 'Popok Bayi', 'Susu'},\n",
    "    {'Telur', 'Susu'},\n",
    "    {'Air Mineral', 'Soda'},\n",
    "]\n",
    "\n",
    "data"
   ]
  },
  {
   "cell_type": "markdown",
   "metadata": {},
   "source": [
    "### Support"
   ]
  },
  {
   "cell_type": "code",
   "execution_count": 10,
   "metadata": {},
   "outputs": [],
   "source": [
    "def support_count(X, data) :\n",
    "    return S(sum(1 for x in data  if X <= x)) "
   ]
  },
  {
   "cell_type": "code",
   "execution_count": 11,
   "metadata": {},
   "outputs": [],
   "source": [
    "def support(X, data) :\n",
    "    return support_count(X, data) / len(data)"
   ]
  },
  {
   "cell_type": "code",
   "execution_count": 12,
   "metadata": {},
   "outputs": [
    {
     "data": {
      "image/png": "[encoded data removed]",
      "text/latex": [
       "$\\displaystyle 2$"
      ],
      "text/plain": [
       "2"
      ]
     },
     "execution_count": 12,
     "metadata": {},
     "output_type": "execute_result"
    }
   ],
   "source": [
    "support_count({'Susu', 'Roti', 'Popok Bayi'}, data)"
   ]
  },
  {
   "cell_type": "code",
   "execution_count": 13,
   "metadata": {},
   "outputs": [
    {
     "data": {
      "image/png": "[encoded data removed]",
      "text/latex": [
       "$\\displaystyle \\frac{1}{5}$"
      ],
      "text/plain": [
       "1/5"
      ]
     },
     "execution_count": 13,
     "metadata": {},
     "output_type": "execute_result"
    }
   ],
   "source": [
    "support({'Susu', 'Roti', 'Popok Bayi'}, data)"
   ]
  },
  {
   "cell_type": "markdown",
   "metadata": {},
   "source": [
    "### Rules"
   ]
  },
  {
   "cell_type": "code",
   "execution_count": 17,
   "metadata": {},
   "outputs": [],
   "source": [
    "rule = ({'Susu', 'Popok Bayi'}, {'Air Mineral'})\n",
    "rule_X = {'Susu', 'Popok Bayi'}\n",
    "rule_Y ={'Air Mineral'}"
   ]
  },
  {
   "cell_type": "code",
   "execution_count": 18,
   "metadata": {},
   "outputs": [],
   "source": [
    "def rule_support(x, y, data) :\n",
    "    return support(x|y, data)"
   ]
  },
  {
   "cell_type": "code",
   "execution_count": 19,
   "metadata": {},
   "outputs": [
    {
     "data": {
      "image/png": "[encoded data removed]",
      "text/latex": [
       "$\\displaystyle \\frac{1}{5}$"
      ],
      "text/plain": [
       "1/5"
      ]
     },
     "execution_count": 19,
     "metadata": {},
     "output_type": "execute_result"
    }
   ],
   "source": [
    "rule_support(rule_X, rule_Y, data)"
   ]
  },
  {
   "cell_type": "code",
   "execution_count": 20,
   "metadata": {},
   "outputs": [],
   "source": [
    "def rule_confidence(x, y, data) :\n",
    "    return (support_count(x|y, data)\n",
    "           / support_count(x, data))"
   ]
  },
  {
   "cell_type": "code",
   "execution_count": 24,
   "metadata": {},
   "outputs": [
    {
     "data": {
      "image/png": "[encoded data removed]",
      "text/latex": [
       "$\\displaystyle \\frac{1}{2}$"
      ],
      "text/plain": [
       "1/2"
      ]
     },
     "execution_count": 24,
     "metadata": {},
     "output_type": "execute_result"
    }
   ],
   "source": [
    "rule_confidence(rule_X, rule_Y, data)"
   ]
  },
  {
   "cell_type": "markdown",
   "metadata": {},
   "source": [
    "###  Initiating Minimum Support"
   ]
  },
  {
   "cell_type": "code",
   "execution_count": null,
   "metadata": {},
   "outputs": [],
   "source": [
    "smin = 0.25"
   ]
  },
  {
   "cell_type": "markdown",
   "metadata": {},
   "source": [
    "### Generating Frequent -1 itemset"
   ]
  },
  {
   "cell_type": "code",
   "execution_count": 80,
   "metadata": {},
   "outputs": [],
   "source": [
    "def union_all(sets) :\n",
    "    result = set()\n",
    "    for c in sets:\n",
    "        result = result | c\n",
    "    return result"
   ]
  },
  {
   "cell_type": "code",
   "execution_count": 81,
   "metadata": {},
   "outputs": [],
   "source": [
    "def frequent_1(data):\n",
    "    items = union_all(data)\n",
    "    return [{item}\n",
    "           for item in items \n",
    "                if support({item}, data) >= smin]"
   ]
  },
  {
   "cell_type": "code",
   "execution_count": 82,
   "metadata": {},
   "outputs": [
    {
     "data": {
      "text/plain": [
       "[{'Roti'}, {'Telur'}, {'Air Mineral'}, {'Soda'}, {'Popok Bayi'}, {'Susu'}]"
      ]
     },
     "execution_count": 82,
     "metadata": {},
     "output_type": "execute_result"
    }
   ],
   "source": [
    "L1 = frequent_1(data)\n",
    "L1"
   ]
  },
  {
   "cell_type": "code",
   "execution_count": 83,
   "metadata": {},
   "outputs": [
    {
     "data": {
      "text/plain": [
       "{'Air Mineral', 'Popok Bayi', 'Roti', 'Soda', 'Susu', 'Telur'}"
      ]
     },
     "execution_count": 83,
     "metadata": {},
     "output_type": "execute_result"
    }
   ],
   "source": [
    "union_all(L1)"
   ]
  },
  {
   "cell_type": "markdown",
   "metadata": {},
   "source": [
    "### Generating Frequent -2 itemset"
   ]
  },
  {
   "cell_type": "code",
   "execution_count": 84,
   "metadata": {},
   "outputs": [
    {
     "name": "stdout",
     "output_type": "stream",
     "text": [
      "{'Roti', 'Telur'}\n",
      "{'Air Mineral', 'Roti'}\n",
      "{'Roti', 'Soda'}\n",
      "{'Roti', 'Popok Bayi'}\n",
      "{'Roti', 'Susu'}\n",
      "{'Air Mineral', 'Telur'}\n",
      "{'Soda', 'Telur'}\n",
      "{'Popok Bayi', 'Telur'}\n",
      "{'Susu', 'Telur'}\n",
      "{'Air Mineral', 'Soda'}\n",
      "{'Air Mineral', 'Popok Bayi'}\n",
      "{'Air Mineral', 'Susu'}\n",
      "{'Soda', 'Popok Bayi'}\n",
      "{'Soda', 'Susu'}\n",
      "{'Popok Bayi', 'Susu'}\n"
     ]
    }
   ],
   "source": [
    "C2 = subset(_, 2)\n",
    "print_all(C2)"
   ]
  },
  {
   "cell_type": "code",
   "execution_count": 85,
   "metadata": {},
   "outputs": [],
   "source": [
    "def good_candidate(c, P) :\n",
    "    for s in subset(c, len(c) - 1) :\n",
    "        if s not in P: \n",
    "            return False\n",
    "    return True"
   ]
  },
  {
   "cell_type": "code",
   "execution_count": 86,
   "metadata": {},
   "outputs": [
    {
     "name": "stdout",
     "output_type": "stream",
     "text": [
      "{'Roti', 'Telur'}\n",
      "{'Air Mineral', 'Roti'}\n",
      "{'Roti', 'Soda'}\n",
      "{'Roti', 'Popok Bayi'}\n",
      "{'Roti', 'Susu'}\n",
      "{'Air Mineral', 'Telur'}\n",
      "{'Soda', 'Telur'}\n",
      "{'Popok Bayi', 'Telur'}\n",
      "{'Susu', 'Telur'}\n",
      "{'Air Mineral', 'Soda'}\n",
      "{'Air Mineral', 'Popok Bayi'}\n",
      "{'Air Mineral', 'Susu'}\n",
      "{'Soda', 'Popok Bayi'}\n",
      "{'Soda', 'Susu'}\n",
      "{'Popok Bayi', 'Susu'}\n"
     ]
    }
   ],
   "source": [
    "F2 = [ c for c in C2 if good_candidate(c, L1)]\n",
    "print_all(F2)"
   ]
  },
  {
   "cell_type": "code",
   "execution_count": 87,
   "metadata": {},
   "outputs": [
    {
     "name": "stdout",
     "output_type": "stream",
     "text": [
      "{'Roti', 'Telur'}\n",
      "{'Roti', 'Soda'}\n",
      "{'Roti', 'Popok Bayi'}\n",
      "{'Roti', 'Susu'}\n",
      "{'Popok Bayi', 'Telur'}\n",
      "{'Air Mineral', 'Popok Bayi'}\n",
      "{'Soda', 'Popok Bayi'}\n",
      "{'Popok Bayi', 'Susu'}\n"
     ]
    }
   ],
   "source": [
    "L2 = [f for f in F2 if support(f, data) >= smin]\n",
    "print_all(L2)"
   ]
  },
  {
   "cell_type": "markdown",
   "metadata": {},
   "source": [
    "### Generating Frequent -3 itemset"
   ]
  },
  {
   "cell_type": "code",
   "execution_count": 88,
   "metadata": {},
   "outputs": [],
   "source": [
    "def generate_candidate(P, k) :\n",
    "    return subset(union_all(P), k)"
   ]
  },
  {
   "cell_type": "code",
   "execution_count": 74,
   "metadata": {},
   "outputs": [
    {
     "name": "stdout",
     "output_type": "stream",
     "text": [
      "{'Air Mineral', 'Roti', 'Telur'}\n",
      "{'Roti', 'Soda', 'Telur'}\n",
      "{'Roti', 'Popok Bayi', 'Telur'}\n",
      "{'Roti', 'Susu', 'Telur'}\n",
      "{'Air Mineral', 'Roti', 'Soda'}\n",
      "{'Air Mineral', 'Roti', 'Popok Bayi'}\n",
      "{'Air Mineral', 'Roti', 'Susu'}\n",
      "{'Roti', 'Soda', 'Popok Bayi'}\n",
      "{'Roti', 'Soda', 'Susu'}\n",
      "{'Roti', 'Popok Bayi', 'Susu'}\n",
      "{'Air Mineral', 'Soda', 'Telur'}\n",
      "{'Air Mineral', 'Popok Bayi', 'Telur'}\n",
      "{'Air Mineral', 'Susu', 'Telur'}\n",
      "{'Soda', 'Popok Bayi', 'Telur'}\n",
      "{'Soda', 'Susu', 'Telur'}\n",
      "{'Popok Bayi', 'Susu', 'Telur'}\n",
      "{'Air Mineral', 'Soda', 'Popok Bayi'}\n",
      "{'Air Mineral', 'Soda', 'Susu'}\n",
      "{'Air Mineral', 'Popok Bayi', 'Susu'}\n",
      "{'Soda', 'Popok Bayi', 'Susu'}\n"
     ]
    }
   ],
   "source": [
    "C3 = generate_candidate(L2, 3)\n",
    "print_all(C3)"
   ]
  },
  {
   "cell_type": "code",
   "execution_count": 90,
   "metadata": {},
   "outputs": [
    {
     "name": "stdout",
     "output_type": "stream",
     "text": [
      "{'Roti', 'Popok Bayi', 'Telur'}\n",
      "{'Roti', 'Soda', 'Popok Bayi'}\n",
      "{'Roti', 'Popok Bayi', 'Susu'}\n"
     ]
    }
   ],
   "source": [
    "F3 = [c for c in C3 if good_candidate(c, L2)]\n",
    "print_all(F3)"
   ]
  },
  {
   "cell_type": "code",
   "execution_count": 91,
   "metadata": {},
   "outputs": [
    {
     "name": "stdout",
     "output_type": "stream",
     "text": [
      "{'Roti', 'Popok Bayi', 'Telur'}\n",
      "{'Roti', 'Soda', 'Popok Bayi'}\n"
     ]
    }
   ],
   "source": [
    "L3 = [f for f in F3 if support(f, data) >= smin]\n",
    "print_all(L3)"
   ]
  },
  {
   "cell_type": "markdown",
   "metadata": {},
   "source": [
    "# END"
   ]
  },
  {
   "cell_type": "code",
   "execution_count": null,
   "metadata": {},
   "outputs": [],
   "source": []
  },
  {
   "cell_type": "code",
   "execution_count": null,
   "metadata": {},
   "outputs": [],
   "source": []
  }
 ],
 "metadata": {
  "kernelspec": {
   "display_name": "Python 3",
   "language": "python",
   "name": "python3"
  },
  "language_info": {
   "codemirror_mode": {
    "name": "ipython",
    "version": 3
   },
   "file_extension": ".py",
   "mimetype": "text/x-python",
   "name": "python",
   "nbconvert_exporter": "python",
   "pygments_lexer": "ipython3",
   "version": "3.8.5"
  }
 },
 "nbformat": 4,
 "nbformat_minor": 4
}
